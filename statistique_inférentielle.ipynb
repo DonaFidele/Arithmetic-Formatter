{
  "nbformat": 4,
  "nbformat_minor": 0,
  "metadata": {
    "colab": {
      "provenance": [],
      "authorship_tag": "ABX9TyM9cdNy09Ev11H+fpMVJCAP",
      "include_colab_link": true
    },
    "kernelspec": {
      "name": "python3",
      "display_name": "Python 3"
    },
    "language_info": {
      "name": "python"
    }
  },
  "cells": [
    {
      "cell_type": "markdown",
      "metadata": {
        "id": "view-in-github",
        "colab_type": "text"
      },
      "source": [
        "<a href=\"https://colab.research.google.com/github/DonaFidele/Mes_notebooks/blob/main/statistique_inf%C3%A9rentielle.ipynb\" target=\"_parent\"><img src=\"https://colab.research.google.com/assets/colab-badge.svg\" alt=\"Open In Colab\"/></a>"
      ]
    },
    {
      "cell_type": "code",
      "execution_count": null,
      "metadata": {
        "id": "oqRQcgIntWd4"
      },
      "outputs": [],
      "source": [
        "import pandas as pd\n",
        "import numpy as np\n",
        "import matplotlib.pyplot as plt"
      ]
    },
    {
      "cell_type": "code",
      "source": [
        "data = pd.read_csv(\"essence.txt\")\n",
        "data.head()"
      ],
      "metadata": {
        "colab": {
          "base_uri": "https://localhost:8080/",
          "height": 206
        },
        "id": "d8cZ_Su_uICy",
        "outputId": "23d81142-3873-4d2f-9438-4f0d04f6c943"
      },
      "execution_count": null,
      "outputs": [
        {
          "output_type": "execute_result",
          "data": {
            "text/plain": [
              "   conso\n",
              "0  30.65\n",
              "1  31.35\n",
              "2  33.03\n",
              "3  31.94\n",
              "4  32.05"
            ],
            "text/html": [
              "\n",
              "  <div id=\"df-a74b3b59-27a0-4e42-b078-9ad8b4dbafb7\">\n",
              "    <div class=\"colab-df-container\">\n",
              "      <div>\n",
              "<style scoped>\n",
              "    .dataframe tbody tr th:only-of-type {\n",
              "        vertical-align: middle;\n",
              "    }\n",
              "\n",
              "    .dataframe tbody tr th {\n",
              "        vertical-align: top;\n",
              "    }\n",
              "\n",
              "    .dataframe thead th {\n",
              "        text-align: right;\n",
              "    }\n",
              "</style>\n",
              "<table border=\"1\" class=\"dataframe\">\n",
              "  <thead>\n",
              "    <tr style=\"text-align: right;\">\n",
              "      <th></th>\n",
              "      <th>conso</th>\n",
              "    </tr>\n",
              "  </thead>\n",
              "  <tbody>\n",
              "    <tr>\n",
              "      <th>0</th>\n",
              "      <td>30.65</td>\n",
              "    </tr>\n",
              "    <tr>\n",
              "      <th>1</th>\n",
              "      <td>31.35</td>\n",
              "    </tr>\n",
              "    <tr>\n",
              "      <th>2</th>\n",
              "      <td>33.03</td>\n",
              "    </tr>\n",
              "    <tr>\n",
              "      <th>3</th>\n",
              "      <td>31.94</td>\n",
              "    </tr>\n",
              "    <tr>\n",
              "      <th>4</th>\n",
              "      <td>32.05</td>\n",
              "    </tr>\n",
              "  </tbody>\n",
              "</table>\n",
              "</div>\n",
              "      <button class=\"colab-df-convert\" onclick=\"convertToInteractive('df-a74b3b59-27a0-4e42-b078-9ad8b4dbafb7')\"\n",
              "              title=\"Convert this dataframe to an interactive table.\"\n",
              "              style=\"display:none;\">\n",
              "        \n",
              "  <svg xmlns=\"http://www.w3.org/2000/svg\" height=\"24px\"viewBox=\"0 0 24 24\"\n",
              "       width=\"24px\">\n",
              "    <path d=\"M0 0h24v24H0V0z\" fill=\"none\"/>\n",
              "    <path d=\"M18.56 5.44l.94 2.06.94-2.06 2.06-.94-2.06-.94-.94-2.06-.94 2.06-2.06.94zm-11 1L8.5 8.5l.94-2.06 2.06-.94-2.06-.94L8.5 2.5l-.94 2.06-2.06.94zm10 10l.94 2.06.94-2.06 2.06-.94-2.06-.94-.94-2.06-.94 2.06-2.06.94z\"/><path d=\"M17.41 7.96l-1.37-1.37c-.4-.4-.92-.59-1.43-.59-.52 0-1.04.2-1.43.59L10.3 9.45l-7.72 7.72c-.78.78-.78 2.05 0 2.83L4 21.41c.39.39.9.59 1.41.59.51 0 1.02-.2 1.41-.59l7.78-7.78 2.81-2.81c.8-.78.8-2.07 0-2.86zM5.41 20L4 18.59l7.72-7.72 1.47 1.35L5.41 20z\"/>\n",
              "  </svg>\n",
              "      </button>\n",
              "      \n",
              "  <style>\n",
              "    .colab-df-container {\n",
              "      display:flex;\n",
              "      flex-wrap:wrap;\n",
              "      gap: 12px;\n",
              "    }\n",
              "\n",
              "    .colab-df-convert {\n",
              "      background-color: #E8F0FE;\n",
              "      border: none;\n",
              "      border-radius: 50%;\n",
              "      cursor: pointer;\n",
              "      display: none;\n",
              "      fill: #1967D2;\n",
              "      height: 32px;\n",
              "      padding: 0 0 0 0;\n",
              "      width: 32px;\n",
              "    }\n",
              "\n",
              "    .colab-df-convert:hover {\n",
              "      background-color: #E2EBFA;\n",
              "      box-shadow: 0px 1px 2px rgba(60, 64, 67, 0.3), 0px 1px 3px 1px rgba(60, 64, 67, 0.15);\n",
              "      fill: #174EA6;\n",
              "    }\n",
              "\n",
              "    [theme=dark] .colab-df-convert {\n",
              "      background-color: #3B4455;\n",
              "      fill: #D2E3FC;\n",
              "    }\n",
              "\n",
              "    [theme=dark] .colab-df-convert:hover {\n",
              "      background-color: #434B5C;\n",
              "      box-shadow: 0px 1px 3px 1px rgba(0, 0, 0, 0.15);\n",
              "      filter: drop-shadow(0px 1px 2px rgba(0, 0, 0, 0.3));\n",
              "      fill: #FFFFFF;\n",
              "    }\n",
              "  </style>\n",
              "\n",
              "      <script>\n",
              "        const buttonEl =\n",
              "          document.querySelector('#df-a74b3b59-27a0-4e42-b078-9ad8b4dbafb7 button.colab-df-convert');\n",
              "        buttonEl.style.display =\n",
              "          google.colab.kernel.accessAllowed ? 'block' : 'none';\n",
              "\n",
              "        async function convertToInteractive(key) {\n",
              "          const element = document.querySelector('#df-a74b3b59-27a0-4e42-b078-9ad8b4dbafb7');\n",
              "          const dataTable =\n",
              "            await google.colab.kernel.invokeFunction('convertToInteractive',\n",
              "                                                     [key], {});\n",
              "          if (!dataTable) return;\n",
              "\n",
              "          const docLinkHtml = 'Like what you see? Visit the ' +\n",
              "            '<a target=\"_blank\" href=https://colab.research.google.com/notebooks/data_table.ipynb>data table notebook</a>'\n",
              "            + ' to learn more about interactive tables.';\n",
              "          element.innerHTML = '';\n",
              "          dataTable['output_type'] = 'display_data';\n",
              "          await google.colab.output.renderOutput(dataTable, element);\n",
              "          const docLink = document.createElement('div');\n",
              "          docLink.innerHTML = docLinkHtml;\n",
              "          element.appendChild(docLink);\n",
              "        }\n",
              "      </script>\n",
              "    </div>\n",
              "  </div>\n",
              "  "
            ]
          },
          "metadata": {},
          "execution_count": 42
        }
      ]
    },
    {
      "cell_type": "code",
      "source": [
        "data.describe().round(2)"
      ],
      "metadata": {
        "colab": {
          "base_uri": "https://localhost:8080/",
          "height": 300
        },
        "id": "fghZyFhruP1c",
        "outputId": "458804aa-8eac-44ee-f6a1-a4d77b637c1d"
      },
      "execution_count": null,
      "outputs": [
        {
          "output_type": "execute_result",
          "data": {
            "text/plain": [
              "        conso\n",
              "count  128.00\n",
              "mean    31.45\n",
              "std      2.16\n",
              "min     26.23\n",
              "25%     30.20\n",
              "50%     31.55\n",
              "75%     32.99\n",
              "max     36.07"
            ],
            "text/html": [
              "\n",
              "  <div id=\"df-3ce7fa6e-2d32-4374-85ea-27b8e232081c\">\n",
              "    <div class=\"colab-df-container\">\n",
              "      <div>\n",
              "<style scoped>\n",
              "    .dataframe tbody tr th:only-of-type {\n",
              "        vertical-align: middle;\n",
              "    }\n",
              "\n",
              "    .dataframe tbody tr th {\n",
              "        vertical-align: top;\n",
              "    }\n",
              "\n",
              "    .dataframe thead th {\n",
              "        text-align: right;\n",
              "    }\n",
              "</style>\n",
              "<table border=\"1\" class=\"dataframe\">\n",
              "  <thead>\n",
              "    <tr style=\"text-align: right;\">\n",
              "      <th></th>\n",
              "      <th>conso</th>\n",
              "    </tr>\n",
              "  </thead>\n",
              "  <tbody>\n",
              "    <tr>\n",
              "      <th>count</th>\n",
              "      <td>128.00</td>\n",
              "    </tr>\n",
              "    <tr>\n",
              "      <th>mean</th>\n",
              "      <td>31.45</td>\n",
              "    </tr>\n",
              "    <tr>\n",
              "      <th>std</th>\n",
              "      <td>2.16</td>\n",
              "    </tr>\n",
              "    <tr>\n",
              "      <th>min</th>\n",
              "      <td>26.23</td>\n",
              "    </tr>\n",
              "    <tr>\n",
              "      <th>25%</th>\n",
              "      <td>30.20</td>\n",
              "    </tr>\n",
              "    <tr>\n",
              "      <th>50%</th>\n",
              "      <td>31.55</td>\n",
              "    </tr>\n",
              "    <tr>\n",
              "      <th>75%</th>\n",
              "      <td>32.99</td>\n",
              "    </tr>\n",
              "    <tr>\n",
              "      <th>max</th>\n",
              "      <td>36.07</td>\n",
              "    </tr>\n",
              "  </tbody>\n",
              "</table>\n",
              "</div>\n",
              "      <button class=\"colab-df-convert\" onclick=\"convertToInteractive('df-3ce7fa6e-2d32-4374-85ea-27b8e232081c')\"\n",
              "              title=\"Convert this dataframe to an interactive table.\"\n",
              "              style=\"display:none;\">\n",
              "        \n",
              "  <svg xmlns=\"http://www.w3.org/2000/svg\" height=\"24px\"viewBox=\"0 0 24 24\"\n",
              "       width=\"24px\">\n",
              "    <path d=\"M0 0h24v24H0V0z\" fill=\"none\"/>\n",
              "    <path d=\"M18.56 5.44l.94 2.06.94-2.06 2.06-.94-2.06-.94-.94-2.06-.94 2.06-2.06.94zm-11 1L8.5 8.5l.94-2.06 2.06-.94-2.06-.94L8.5 2.5l-.94 2.06-2.06.94zm10 10l.94 2.06.94-2.06 2.06-.94-2.06-.94-.94-2.06-.94 2.06-2.06.94z\"/><path d=\"M17.41 7.96l-1.37-1.37c-.4-.4-.92-.59-1.43-.59-.52 0-1.04.2-1.43.59L10.3 9.45l-7.72 7.72c-.78.78-.78 2.05 0 2.83L4 21.41c.39.39.9.59 1.41.59.51 0 1.02-.2 1.41-.59l7.78-7.78 2.81-2.81c.8-.78.8-2.07 0-2.86zM5.41 20L4 18.59l7.72-7.72 1.47 1.35L5.41 20z\"/>\n",
              "  </svg>\n",
              "      </button>\n",
              "      \n",
              "  <style>\n",
              "    .colab-df-container {\n",
              "      display:flex;\n",
              "      flex-wrap:wrap;\n",
              "      gap: 12px;\n",
              "    }\n",
              "\n",
              "    .colab-df-convert {\n",
              "      background-color: #E8F0FE;\n",
              "      border: none;\n",
              "      border-radius: 50%;\n",
              "      cursor: pointer;\n",
              "      display: none;\n",
              "      fill: #1967D2;\n",
              "      height: 32px;\n",
              "      padding: 0 0 0 0;\n",
              "      width: 32px;\n",
              "    }\n",
              "\n",
              "    .colab-df-convert:hover {\n",
              "      background-color: #E2EBFA;\n",
              "      box-shadow: 0px 1px 2px rgba(60, 64, 67, 0.3), 0px 1px 3px 1px rgba(60, 64, 67, 0.15);\n",
              "      fill: #174EA6;\n",
              "    }\n",
              "\n",
              "    [theme=dark] .colab-df-convert {\n",
              "      background-color: #3B4455;\n",
              "      fill: #D2E3FC;\n",
              "    }\n",
              "\n",
              "    [theme=dark] .colab-df-convert:hover {\n",
              "      background-color: #434B5C;\n",
              "      box-shadow: 0px 1px 3px 1px rgba(0, 0, 0, 0.15);\n",
              "      filter: drop-shadow(0px 1px 2px rgba(0, 0, 0, 0.3));\n",
              "      fill: #FFFFFF;\n",
              "    }\n",
              "  </style>\n",
              "\n",
              "      <script>\n",
              "        const buttonEl =\n",
              "          document.querySelector('#df-3ce7fa6e-2d32-4374-85ea-27b8e232081c button.colab-df-convert');\n",
              "        buttonEl.style.display =\n",
              "          google.colab.kernel.accessAllowed ? 'block' : 'none';\n",
              "\n",
              "        async function convertToInteractive(key) {\n",
              "          const element = document.querySelector('#df-3ce7fa6e-2d32-4374-85ea-27b8e232081c');\n",
              "          const dataTable =\n",
              "            await google.colab.kernel.invokeFunction('convertToInteractive',\n",
              "                                                     [key], {});\n",
              "          if (!dataTable) return;\n",
              "\n",
              "          const docLinkHtml = 'Like what you see? Visit the ' +\n",
              "            '<a target=\"_blank\" href=https://colab.research.google.com/notebooks/data_table.ipynb>data table notebook</a>'\n",
              "            + ' to learn more about interactive tables.';\n",
              "          element.innerHTML = '';\n",
              "          dataTable['output_type'] = 'display_data';\n",
              "          await google.colab.output.renderOutput(dataTable, element);\n",
              "          const docLink = document.createElement('div');\n",
              "          docLink.innerHTML = docLinkHtml;\n",
              "          element.appendChild(docLink);\n",
              "        }\n",
              "      </script>\n",
              "    </div>\n",
              "  </div>\n",
              "  "
            ]
          },
          "metadata": {},
          "execution_count": 43
        }
      ]
    },
    {
      "cell_type": "code",
      "source": [
        "moyenne=data['conso'].mean().round(2)\n",
        "moyenne"
      ],
      "metadata": {
        "colab": {
          "base_uri": "https://localhost:8080/"
        },
        "id": "Rb-8jjsZz2HP",
        "outputId": "b52c2492-4a88-493f-99a1-0957d1066f9b"
      },
      "execution_count": null,
      "outputs": [
        {
          "output_type": "execute_result",
          "data": {
            "text/plain": [
              "31.45"
            ]
          },
          "metadata": {},
          "execution_count": 44
        }
      ]
    },
    {
      "cell_type": "code",
      "source": [
        "ecart_type=data['conso'].std()"
      ],
      "metadata": {
        "id": "ptZd1BZw3Zrb"
      },
      "execution_count": null,
      "outputs": []
    },
    {
      "cell_type": "code",
      "source": [
        "#variance biaisée\n",
        "np.var([data['conso']]).round(2)"
      ],
      "metadata": {
        "colab": {
          "base_uri": "https://localhost:8080/"
        },
        "id": "eRIKSs10u43E",
        "outputId": "bbdd271e-8c9e-4fac-95d7-bf083a62fffc"
      },
      "execution_count": null,
      "outputs": [
        {
          "output_type": "execute_result",
          "data": {
            "text/plain": [
              "4.63"
            ]
          },
          "metadata": {},
          "execution_count": 46
        }
      ]
    },
    {
      "cell_type": "code",
      "source": [
        "#variance non biaisée\n",
        "np.var([data['conso']],ddof=1).round(2)"
      ],
      "metadata": {
        "colab": {
          "base_uri": "https://localhost:8080/"
        },
        "id": "dfEvm9Qvvy8M",
        "outputId": "ddabef3a-3d03-4eb1-9054-7b8aa665ae57"
      },
      "execution_count": null,
      "outputs": [
        {
          "output_type": "execute_result",
          "data": {
            "text/plain": [
              "4.66"
            ]
          },
          "metadata": {},
          "execution_count": 47
        }
      ]
    },
    {
      "cell_type": "code",
      "source": [
        "#visualisons l'histogramme\n",
        "plt.hist(data['conso'],bins=range(26,38))"
      ],
      "metadata": {
        "colab": {
          "base_uri": "https://localhost:8080/",
          "height": 483
        },
        "id": "CZm53_U6wD2j",
        "outputId": "92d51848-16d7-42b3-8071-0237f277773b"
      },
      "execution_count": null,
      "outputs": [
        {
          "output_type": "execute_result",
          "data": {
            "text/plain": [
              "(array([ 5.,  2., 12., 10., 21., 26., 20., 18.,  6.,  7.,  1.]),\n",
              " array([26., 27., 28., 29., 30., 31., 32., 33., 34., 35., 36., 37.]),\n",
              " <BarContainer object of 11 artists>)"
            ]
          },
          "metadata": {},
          "execution_count": 48
        },
        {
          "output_type": "display_data",
          "data": {
            "text/plain": [
              "<Figure size 640x480 with 1 Axes>"
            ],
            "image/png": "[encoded data removed]"
          },
          "metadata": {}
        }
      ]
    },
    {
      "cell_type": "markdown",
      "source": [
        "\n",
        "\n",
        "On peut visualiser sur cet histogramme la moyenne empirique :\n"
      ],
      "metadata": {
        "id": "06jFT5FLyjzJ"
      }
    },
    {
      "cell_type": "code",
      "source": [
        "plt.hist(data['conso'],bins=range(26,38))\n",
        "plt.axvline(moyenne,color='r', linewidth=2)\n",
        "import matplotlib.lines as mlines\n",
        "plt.legend(handles=[mlines.Line2D([], [], color='red',markersize=15, label=\"Moyenne empirique\")])"
      ],
      "metadata": {
        "colab": {
          "base_uri": "https://localhost:8080/",
          "height": 448
        },
        "id": "mRcfkc-pxUA_",
        "outputId": "533e75a6-d8ad-4d3f-c101-04af97cef186"
      },
      "execution_count": null,
      "outputs": [
        {
          "output_type": "execute_result",
          "data": {
            "text/plain": [
              "<matplotlib.legend.Legend at 0x7fc9add01f60>"
            ]
          },
          "metadata": {},
          "execution_count": 49
        },
        {
          "output_type": "display_data",
          "data": {
            "text/plain": [
              "<Figure size 640x480 with 1 Axes>"
            ],
            "image/png": "[encoded data removed]"
          },
          "metadata": {}
        }
      ]
    },
    {
      "cell_type": "markdown",
      "source": [
        "On peut visualiser sur cet histogramme la moyenne empirique et le seuil “métier” (le seuil métier est la valeur sur laquelle souhaite communiquer le constructeur : 31 litres au cent) :"
      ],
      "metadata": {
        "id": "-JFn7CKR01Ny"
      }
    },
    {
      "cell_type": "code",
      "source": [
        "seuil=31\n",
        "plt.hist(data['conso'],bins=range(26,38))\n",
        "plt.axvline(moyenne,color='r',linewidth=2)\n",
        "plt.axvline(seuil,color='b',linewidth=2)\n",
        "plt.legend(handles=[mlines.Line2D([], [], color='red',markersize=15, label=\"Moyenne empirique\"),mlines.Line2D([], [], color='blue',markersize=15, label=u\"Seuil testé\")])"
      ],
      "metadata": {
        "colab": {
          "base_uri": "https://localhost:8080/",
          "height": 448
        },
        "id": "AD2yKk7EzG5d",
        "outputId": "782609d3-a957-4e9c-c1fe-19959f351b1c"
      },
      "execution_count": null,
      "outputs": [
        {
          "output_type": "execute_result",
          "data": {
            "text/plain": [
              "<matplotlib.legend.Legend at 0x7fc9add9d810>"
            ]
          },
          "metadata": {},
          "execution_count": 50
        },
        {
          "output_type": "display_data",
          "data": {
            "text/plain": [
              "<Figure size 640x480 with 1 Axes>"
            ],
            "image/png": "[encoded data removed]"
          },
          "metadata": {}
        }
      ]
    },
    {
      "cell_type": "markdown",
      "source": [
        "On peut enfin superposer sur cet histogramme la densité gaussienne :"
      ],
      "metadata": {
        "id": "DK4JwFLe2aO9"
      }
    },
    {
      "cell_type": "code",
      "source": [
        "from matplotlib import patches\n",
        "import matplotlib.mlab as mlab\n",
        "from scipy.stats import norm\n",
        "\n",
        "fig,ax=plt.subplots()\n",
        "n,bins,patches=ax.hist(data['conso'],normed=True,bins=range(26,3,8))\n",
        "bins=np.arange(26,37,0.1)\n",
        "y=norm.pdf(bins,moyenne,ecart_type)*100\n",
        "ax.plot(bins,y,'--')\n",
        "ax.set_xlabel('Smarts')\n",
        "ax.set_title(u\"Histogramme et densité normale\")"
      ],
      "metadata": {
        "colab": {
          "base_uri": "https://localhost:8080/",
          "height": 490
        },
        "id": "rQnTElBE10Fb",
        "outputId": "724e0140-6a39-4b38-c79b-35ba791d2d85"
      },
      "execution_count": null,
      "outputs": [
        {
          "output_type": "execute_result",
          "data": {
            "text/plain": [
              "Text(0.5, 1.0, 'Histogramme et densité normale')"
            ]
          },
          "metadata": {},
          "execution_count": 51
        },
        {
          "output_type": "display_data",
          "data": {
            "text/plain": [
              "<Figure size 640x480 with 1 Axes>"
            ],
            "image/png": "[encoded data removed]"
          },
          "metadata": {}
        }
      ]
    },
    {
      "cell_type": "markdown",
      "source": [
        "On constate que l’écart entre l’histogramme, primo-estimation de la densité de probabilité, et la densité gaussienne sont plutôt proches (car la courbe rouge et l'histogramme sont quasiment superposables)."
      ],
      "metadata": {
        "id": "6Ad4maTj5bDN"
      }
    },
    {
      "cell_type": "markdown",
      "source": [
        "# Déterminez un intervalle de confiance sur une proportion"
      ],
      "metadata": {
        "id": "gMMhy7WHmTnX"
      }
    },
    {
      "cell_type": "code",
      "source": [
        "data = pd.read_csv(\"guerison.txt\")\n",
        "data.head()"
      ],
      "metadata": {
        "colab": {
          "base_uri": "https://localhost:8080/",
          "height": 206
        },
        "id": "hStgN0al3lnC",
        "outputId": "3998a779-373d-4d29-e841-1ffb03b0f709"
      },
      "execution_count": null,
      "outputs": [
        {
          "output_type": "execute_result",
          "data": {
            "text/plain": [
              "   guerison\n",
              "0         1\n",
              "1         0\n",
              "2         1\n",
              "3         1\n",
              "4         1"
            ],
            "text/html": [
              "\n",
              "  <div id=\"df-2fc0ae50-2d13-4129-b6a5-1a07c91b6f89\">\n",
              "    <div class=\"colab-df-container\">\n",
              "      <div>\n",
              "<style scoped>\n",
              "    .dataframe tbody tr th:only-of-type {\n",
              "        vertical-align: middle;\n",
              "    }\n",
              "\n",
              "    .dataframe tbody tr th {\n",
              "        vertical-align: top;\n",
              "    }\n",
              "\n",
              "    .dataframe thead th {\n",
              "        text-align: right;\n",
              "    }\n",
              "</style>\n",
              "<table border=\"1\" class=\"dataframe\">\n",
              "  <thead>\n",
              "    <tr style=\"text-align: right;\">\n",
              "      <th></th>\n",
              "      <th>guerison</th>\n",
              "    </tr>\n",
              "  </thead>\n",
              "  <tbody>\n",
              "    <tr>\n",
              "      <th>0</th>\n",
              "      <td>1</td>\n",
              "    </tr>\n",
              "    <tr>\n",
              "      <th>1</th>\n",
              "      <td>0</td>\n",
              "    </tr>\n",
              "    <tr>\n",
              "      <th>2</th>\n",
              "      <td>1</td>\n",
              "    </tr>\n",
              "    <tr>\n",
              "      <th>3</th>\n",
              "      <td>1</td>\n",
              "    </tr>\n",
              "    <tr>\n",
              "      <th>4</th>\n",
              "      <td>1</td>\n",
              "    </tr>\n",
              "  </tbody>\n",
              "</table>\n",
              "</div>\n",
              "      <button class=\"colab-df-convert\" onclick=\"convertToInteractive('df-2fc0ae50-2d13-4129-b6a5-1a07c91b6f89')\"\n",
              "              title=\"Convert this dataframe to an interactive table.\"\n",
              "              style=\"display:none;\">\n",
              "        \n",
              "  <svg xmlns=\"http://www.w3.org/2000/svg\" height=\"24px\"viewBox=\"0 0 24 24\"\n",
              "       width=\"24px\">\n",
              "    <path d=\"M0 0h24v24H0V0z\" fill=\"none\"/>\n",
              "    <path d=\"M18.56 5.44l.94 2.06.94-2.06 2.06-.94-2.06-.94-.94-2.06-.94 2.06-2.06.94zm-11 1L8.5 8.5l.94-2.06 2.06-.94-2.06-.94L8.5 2.5l-.94 2.06-2.06.94zm10 10l.94 2.06.94-2.06 2.06-.94-2.06-.94-.94-2.06-.94 2.06-2.06.94z\"/><path d=\"M17.41 7.96l-1.37-1.37c-.4-.4-.92-.59-1.43-.59-.52 0-1.04.2-1.43.59L10.3 9.45l-7.72 7.72c-.78.78-.78 2.05 0 2.83L4 21.41c.39.39.9.59 1.41.59.51 0 1.02-.2 1.41-.59l7.78-7.78 2.81-2.81c.8-.78.8-2.07 0-2.86zM5.41 20L4 18.59l7.72-7.72 1.47 1.35L5.41 20z\"/>\n",
              "  </svg>\n",
              "      </button>\n",
              "      \n",
              "  <style>\n",
              "    .colab-df-container {\n",
              "      display:flex;\n",
              "      flex-wrap:wrap;\n",
              "      gap: 12px;\n",
              "    }\n",
              "\n",
              "    .colab-df-convert {\n",
              "      background-color: #E8F0FE;\n",
              "      border: none;\n",
              "      border-radius: 50%;\n",
              "      cursor: pointer;\n",
              "      display: none;\n",
              "      fill: #1967D2;\n",
              "      height: 32px;\n",
              "      padding: 0 0 0 0;\n",
              "      width: 32px;\n",
              "    }\n",
              "\n",
              "    .colab-df-convert:hover {\n",
              "      background-color: #E2EBFA;\n",
              "      box-shadow: 0px 1px 2px rgba(60, 64, 67, 0.3), 0px 1px 3px 1px rgba(60, 64, 67, 0.15);\n",
              "      fill: #174EA6;\n",
              "    }\n",
              "\n",
              "    [theme=dark] .colab-df-convert {\n",
              "      background-color: #3B4455;\n",
              "      fill: #D2E3FC;\n",
              "    }\n",
              "\n",
              "    [theme=dark] .colab-df-convert:hover {\n",
              "      background-color: #434B5C;\n",
              "      box-shadow: 0px 1px 3px 1px rgba(0, 0, 0, 0.15);\n",
              "      filter: drop-shadow(0px 1px 2px rgba(0, 0, 0, 0.3));\n",
              "      fill: #FFFFFF;\n",
              "    }\n",
              "  </style>\n",
              "\n",
              "      <script>\n",
              "        const buttonEl =\n",
              "          document.querySelector('#df-2fc0ae50-2d13-4129-b6a5-1a07c91b6f89 button.colab-df-convert');\n",
              "        buttonEl.style.display =\n",
              "          google.colab.kernel.accessAllowed ? 'block' : 'none';\n",
              "\n",
              "        async function convertToInteractive(key) {\n",
              "          const element = document.querySelector('#df-2fc0ae50-2d13-4129-b6a5-1a07c91b6f89');\n",
              "          const dataTable =\n",
              "            await google.colab.kernel.invokeFunction('convertToInteractive',\n",
              "                                                     [key], {});\n",
              "          if (!dataTable) return;\n",
              "\n",
              "          const docLinkHtml = 'Like what you see? Visit the ' +\n",
              "            '<a target=\"_blank\" href=https://colab.research.google.com/notebooks/data_table.ipynb>data table notebook</a>'\n",
              "            + ' to learn more about interactive tables.';\n",
              "          element.innerHTML = '';\n",
              "          dataTable['output_type'] = 'display_data';\n",
              "          await google.colab.output.renderOutput(dataTable, element);\n",
              "          const docLink = document.createElement('div');\n",
              "          docLink.innerHTML = docLinkHtml;\n",
              "          element.appendChild(docLink);\n",
              "        }\n",
              "      </script>\n",
              "    </div>\n",
              "  </div>\n",
              "  "
            ]
          },
          "metadata": {},
          "execution_count": 52
        }
      ]
    },
    {
      "cell_type": "markdown",
      "source": [
        "On peut estimer le taux de guérison théorique p"
      ],
      "metadata": {
        "id": "23wwQVxFmwD_"
      }
    },
    {
      "cell_type": "code",
      "source": [
        "taux_de_gueris=data['guerison'].sum()/len(data['guerison'])\n",
        "taux_de_gueris\n"
      ],
      "metadata": {
        "colab": {
          "base_uri": "https://localhost:8080/"
        },
        "id": "K_-b2xNBmhwe",
        "outputId": "7f6b98ce-0fd6-4c5a-85b9-2ade0af3d790"
      },
      "execution_count": null,
      "outputs": [
        {
          "output_type": "execute_result",
          "data": {
            "text/plain": [
              "0.7731481481481481"
            ]
          },
          "metadata": {},
          "execution_count": 53
        }
      ]
    },
    {
      "cell_type": "code",
      "source": [
        "\n",
        "\n",
        "n_guerison=len(data)\n",
        "n_guerison_gueris= sum(data[data[\"guerison\"]==1][\"guerison\"])\n",
        "p_estim= n_guerison_gueris/float(n_guerison)\n",
        "\n",
        "p_estim"
      ],
      "metadata": {
        "colab": {
          "base_uri": "https://localhost:8080/"
        },
        "id": "LJJELlTfnEwA",
        "outputId": "b41f7767-47db-44b5-a7e9-1458fe7faab1"
      },
      "execution_count": null,
      "outputs": [
        {
          "output_type": "execute_result",
          "data": {
            "text/plain": [
              "0.7731481481481481"
            ]
          },
          "metadata": {},
          "execution_count": 54
        }
      ]
    },
    {
      "cell_type": "markdown",
      "source": [
        " Si on souhaite encadrer le taux de guérison p avec une probabilité de  1−α=95% , on obtient alors comme intervalle de confiance  Φ1−α2=Φ0.975≃1.96\n",
        "\n",
        "⎡⎣167216−1.96 167216(1−167216)216−−−−−−−−−−−√ ; 167216+1.96 167216(1−167216)216−−−−−−−−−−−√⎤⎦ .\n",
        "\n",
        "Si on lance “manuellement” les calculs au niveau de test 5% :"
      ],
      "metadata": {
        "id": "WnwIFiGSoNgd"
      }
    },
    {
      "cell_type": "code",
      "source": [
        "from scipy.stats import norm\n",
        "from numpy import math\n",
        "alpha=0.05\n",
        "icinf=taux_de_gueris-norm.ppf(1-alpha/2)*math.sqrt((taux_de_gueris*(1-taux_de_gueris))/len(data['guerison']))\n",
        "icinf.round(2)"
      ],
      "metadata": {
        "colab": {
          "base_uri": "https://localhost:8080/"
        },
        "id": "SFrKkYzen35l",
        "outputId": "66cd5be7-bef9-45a1-98a6-a3771119b0d9"
      },
      "execution_count": null,
      "outputs": [
        {
          "output_type": "execute_result",
          "data": {
            "text/plain": [
              "0.72"
            ]
          },
          "metadata": {},
          "execution_count": 55
        }
      ]
    },
    {
      "cell_type": "code",
      "source": [
        "icsup=taux_de_gueris+norm.ppf(1-alpha/2)*math.sqrt((taux_de_gueris*(1-taux_de_gueris))/len(data['guerison']))\n",
        "icsup.round(2)"
      ],
      "metadata": {
        "colab": {
          "base_uri": "https://localhost:8080/"
        },
        "id": "sJlurpUdppJL",
        "outputId": "39870ae6-69f0-4457-a116-997810c9a037"
      },
      "execution_count": null,
      "outputs": [
        {
          "output_type": "execute_result",
          "data": {
            "text/plain": [
              "0.83"
            ]
          },
          "metadata": {},
          "execution_count": 56
        }
      ]
    },
    {
      "cell_type": "markdown",
      "source": [
        "On obtient alors :\n",
        "[0.72 ; 0.82]=[72% ; 83%] \n",
        "\n",
        "On constate que la largeur de l’intervalle n’est pas négligeable, mais n’oublions pas qu’il n’y a que 216 individus dans l’échantillon.\n",
        "\n",
        "En pratique, le data analyst peut obtenir simplement cet intervalle à l’aide de la commande  proportion_confint  (cette commande lance d’autres calculs en sus de l’intervalle de confiance, on les verra plus tard) :"
      ],
      "metadata": {
        "id": "W-_owupfrQ0o"
      }
    },
    {
      "cell_type": "code",
      "source": [
        "from statsmodels.stats.proportion import proportion_confint\n",
        "proportion_confint(n_guerison_gueris,n_guerison,alpha,method='normal')"
      ],
      "metadata": {
        "colab": {
          "base_uri": "https://localhost:8080/"
        },
        "id": "7aOPy31prOWt",
        "outputId": "bfec568f-15d4-4119-b482-40f7744230b1"
      },
      "execution_count": null,
      "outputs": [
        {
          "output_type": "execute_result",
          "data": {
            "text/plain": [
              "(0.7172980758199328, 0.8289982204763635)"
            ]
          },
          "metadata": {},
          "execution_count": 57
        }
      ]
    },
    {
      "cell_type": "markdown",
      "source": [
        "Les résultats numériques diffèrent légèrement à cause d’une “correction de normalité” effectuée par cette commande.\n",
        "\n",
        "Enfin, si on avait choisi un niveau de confiance plus faible, 1−α=90% par exemple, on aurait obtenu un intervalle de confiance plus étroit :"
      ],
      "metadata": {
        "id": "HqRJ53yYsNHb"
      }
    },
    {
      "cell_type": "code",
      "source": [
        "proportion_confint(n_guerison_gueris,n_guerison,alpha=0.1,method='normal')"
      ],
      "metadata": {
        "colab": {
          "base_uri": "https://localhost:8080/"
        },
        "id": "nxnbEod7sI30",
        "outputId": "4c4f5989-f314-41cd-edb3-fe474392ea21"
      },
      "execution_count": null,
      "outputs": [
        {
          "output_type": "execute_result",
          "data": {
            "text/plain": [
              "(0.7262772899287175, 0.8200190063675787)"
            ]
          },
          "metadata": {},
          "execution_count": 58
        }
      ]
    },
    {
      "cell_type": "markdown",
      "source": [
        "On obtient ici [0.726 ; 0.810]=[72.6% ; 81.0%] , la largeur de l’intervalle a bel et bien diminué !"
      ],
      "metadata": {
        "id": "HXjHZ5GFtKin"
      }
    },
    {
      "cell_type": "code",
      "source": [
        "import scipy\n",
        "data = pd.read_csv(\"essence.txt\")\n",
        "\n",
        "alpha=0.05\n",
        "icinf=moyenne-scipy.stats.t.ppf(1-alpha/2,len(data['conso'])-1)*(ecart_type/math.sqrt(len(data['conso'])))\n",
        "icinf.round(2)"
      ],
      "metadata": {
        "colab": {
          "base_uri": "https://localhost:8080/"
        },
        "id": "AZl9e7lXtA0o",
        "outputId": "e389ff6e-0d44-47d5-8af4-254a301afcea"
      },
      "execution_count": null,
      "outputs": [
        {
          "output_type": "execute_result",
          "data": {
            "text/plain": [
              "31.072238076697698"
            ]
          },
          "metadata": {},
          "execution_count": 61
        }
      ]
    },
    {
      "cell_type": "code",
      "source": [
        "icsup=moyenne+scipy.stats.t.ppf(1-alpha/2,len(data['conso'])-1)*(ecart_type/math.sqrt(len(data['conso'])))\n",
        "icsup.round(2)"
      ],
      "metadata": {
        "colab": {
          "base_uri": "https://localhost:8080/"
        },
        "id": "q5tb8QqpxVIa",
        "outputId": "1f0c0a9a-ed74-4e50-ab4f-c9075fd39a71"
      },
      "execution_count": null,
      "outputs": [
        {
          "output_type": "execute_result",
          "data": {
            "text/plain": [
              "31.83"
            ]
          },
          "metadata": {},
          "execution_count": 62
        }
      ]
    },
    {
      "cell_type": "markdown",
      "source": [
        "On obtient alors :\n",
        "\n",
        "[31.07 ; 31.83]\n",
        "\n",
        "\n",
        "Remarquons encore ici que l’hypothèse gaussienne n’était pas obligatoire ici, en effet l’échantillon est de taille suffisamment importante (supérieure à 30)"
      ],
      "metadata": {
        "id": "m8TuU3dCx2je"
      }
    },
    {
      "cell_type": "markdown",
      "source": [
        "\n",
        "# Screencast 4 : IC sur variance Essence\n",
        "\n",
        "Si on souhaite encadrer la variance (théorique) de la consommation d’essence σ2 avec une probabilité de 95%, on obtient alors comme intervalle de confiance (χ2n−1,α2=χ2127,0.025≃97.7,χ2n−1,α2=χ2127,0.975≃160.1ets′2≃4.66)\n",
        "\n",
        ": [127×4.66160.1 ; 127×4.6697.7] .\n",
        "\n",
        "Si on lance “manuellement” les calculs au niveau de test 5% :"
      ],
      "metadata": {
        "id": "z2CfNNJm24FC"
      }
    },
    {
      "cell_type": "code",
      "source": [
        "ecart_type2=np.std(data['conso'],ddof=1)\n",
        "ecart_type2"
      ],
      "metadata": {
        "colab": {
          "base_uri": "https://localhost:8080/"
        },
        "id": "lqE5RVBC3Y9n",
        "outputId": "e0722a6f-5703-4948-bfaa-9c087f8670d9"
      },
      "execution_count": null,
      "outputs": [
        {
          "output_type": "execute_result",
          "data": {
            "text/plain": [
              "2.1598171067924494"
            ]
          },
          "metadata": {},
          "execution_count": 69
        }
      ]
    },
    {
      "cell_type": "code",
      "source": [
        "icinf = (len(data['conso'])-1)*ecart_type2/scipy.stats.chi2.ppf(1-alpha/2,len(data['conso'])-1)\n",
        "round(icinf,2)"
      ],
      "metadata": {
        "colab": {
          "base_uri": "https://localhost:8080/"
        },
        "id": "dq_ql2MT22C8",
        "outputId": "7e19b28e-026c-4e19-820b-5e9fcf335a36"
      },
      "execution_count": null,
      "outputs": [
        {
          "output_type": "execute_result",
          "data": {
            "text/plain": [
              "1.71"
            ]
          },
          "metadata": {},
          "execution_count": 70
        }
      ]
    },
    {
      "cell_type": "code",
      "source": [
        "icinf = (len(data['conso'])-1)*ecart_type2/scipy.stats.chi2.ppf(alpha/2,len(data['conso'])-1)\n",
        "round(icinf,2)"
      ],
      "metadata": {
        "colab": {
          "base_uri": "https://localhost:8080/"
        },
        "id": "ANOiE3lW4Tei",
        "outputId": "6abb1bbc-cdd2-4bd9-d282-503ecf6fb159"
      },
      "execution_count": null,
      "outputs": [
        {
          "output_type": "execute_result",
          "data": {
            "text/plain": [
              "2.81"
            ]
          },
          "metadata": {},
          "execution_count": 71
        }
      ]
    },
    {
      "cell_type": "markdown",
      "source": [
        "\n",
        "# Screencast 5 : test sur Guerison\n",
        "\n",
        "On teste : {H0:p=p0\n",
        "            H1:p>p0\n",
        "\n",
        "avec p0=0.75.\n",
        "\n",
        "On considère que l’hypothèse gaussienne est acceptable ici, en effet : np0(1−p0)=216(0.75)(1−0.75)=40.5>5\n",
        "\n",
        ".\n",
        "\n",
        "Pour α=5%, on a :\n",
        "\n",
        "Φ1−α≃1.64\n",
        "p0+Φ1−αp0(1−p0)n‾‾‾‾‾‾‾√≃0.798.\n",
        "\n",
        "On ne rejette pas H0 au niveau de test 5% car : x¯=0.773≤0.798≃p0+Φ1−αp0(1−p0)n‾‾‾‾‾‾‾√.\n",
        "\n",
        "La p-valeur vaut : p−valeur=1−Φ(n‾√x¯−p0p0(1−p0)√)≃1−Φ(0.786)≃0.216.\n",
        "\n",
        "On constate que le niveau de test retenu devrait au moins être égal à 21,6% pour rejeter H0 ! Accepter de se tromper dans plus de 20% des cas lorsque rejette l’hypothèse nulle n’est pas rencontré en pratique.\n",
        "\n",
        "Au final, le laboratoire ne peut pas conclure avec un niveau de test raisonnable que le nouveau médicament est meilleur que celui déjà sur le marché."
      ],
      "metadata": {
        "id": "hGJ4dx6JzQ8R"
      }
    },
    {
      "cell_type": "code",
      "source": [
        "import statsmodels\n",
        "statsmodels.stats.proportion.binom_test(n_guerison_gueris,n_guerison, prop=0.75, alternative='larger')"
      ],
      "metadata": {
        "colab": {
          "base_uri": "https://localhost:8080/"
        },
        "id": "TAJ_26hxx3UK",
        "outputId": "a923f882-a111-43b8-b06e-5152f9ac593a"
      },
      "execution_count": null,
      "outputs": [
        {
          "output_type": "execute_result",
          "data": {
            "text/plain": [
              "0.24183479554060147"
            ]
          },
          "metadata": {},
          "execution_count": 63
        }
      ]
    },
    {
      "cell_type": "markdown",
      "source": [
        "\n",
        "# Screencast 7 : test sur moyenne Essence\n",
        "\n",
        "On teste : {H0:μ=μ0H1:μ≠μ0\n",
        "avec μ0=0.31\n",
        "\n",
        ".\n",
        "\n",
        "Pour α=5\n",
        "\n",
        ", on a :\n",
        "\n",
        "tn−1,1−α2=t127,0.975≃1.97|n‾√x¯−μ0s′|≃|128‾‾‾‾√31.45¯−312.16|≃2.35\n",
        "\n",
        "On rejette H0\n",
        "au niveau de test 5% car : |n‾√x¯−μ0s′|=2.35>1.97≃tn−1,1−α2.\n",
        "\n",
        "La p-valeur vaut :\n",
        "\n",
        "p−valeur=P(|τ(n−1)|≥n‾√x¯−μ0s′)=2(1−P(τ(n−1)≤n‾√x¯−μ0s′))≃2(1−P(τ(127)≠2.35))≃0.02.\n",
        "\n",
        "On constate qu’on rejette bien l’hypothèse nulle au niveau de test 5% (0.02<0.05) mais pas au niveau de test 1% (0.02≥1%).\n",
        "\n",
        "En pratique, le data analyst peut utiliser la commande ttest_1samp pour résoudre ce test :"
      ],
      "metadata": {
        "id": "InduswXJ0LQG"
      }
    },
    {
      "cell_type": "code",
      "source": [
        "scipy.stats.ttest_1samp(data[\"conso\"],31)"
      ],
      "metadata": {
        "colab": {
          "base_uri": "https://localhost:8080/"
        },
        "id": "Hu6N_IFDzpFM",
        "outputId": "4a19b2dc-ca61-4a49-abfa-dc6f391ff33d"
      },
      "execution_count": null,
      "outputs": [
        {
          "output_type": "execute_result",
          "data": {
            "text/plain": [
              "TtestResult(statistic=2.354357516761916, pvalue=0.020088330843337596, df=127)"
            ]
          },
          "metadata": {},
          "execution_count": 72
        }
      ]
    },
    {
      "cell_type": "code",
      "source": [],
      "metadata": {
        "id": "jk_78wLiS3mf"
      },
      "execution_count": null,
      "outputs": []
    }
  ]
}