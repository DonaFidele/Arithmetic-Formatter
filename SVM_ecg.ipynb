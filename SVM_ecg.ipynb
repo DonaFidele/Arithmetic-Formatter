{
  "nbformat": 4,
  "nbformat_minor": 0,
  "metadata": {
    "colab": {
      "provenance": [],
      "authorship_tag": "ABX9TyOBBJwNun7UHpyTn3xTZuV3",
      "include_colab_link": true
    },
    "kernelspec": {
      "name": "python3",
      "display_name": "Python 3"
    },
    "language_info": {
      "name": "python"
    }
  },
  "cells": [
    {
      "cell_type": "markdown",
      "metadata": {
        "id": "view-in-github",
        "colab_type": "text"
      },
      "source": [
        "<a href=\"https://colab.research.google.com/github/DonaFidele/Arithmetic-Formatter/blob/main/SVM_ecg.ipynb\" target=\"_parent\"><img src=\"https://colab.research.google.com/assets/colab-badge.svg\" alt=\"Open In Colab\"/></a>"
      ]
    },
    {
      "cell_type": "code",
      "execution_count": 1,
      "metadata": {
        "id": "b9QCIMpRDIc3"
      },
      "outputs": [],
      "source": [
        "import pandas as pd\n",
        "import numpy as np\n",
        "import matplotlib.pyplot as plt\n",
        "from sklearn.model_selection import train_test_split"
      ]
    },
    {
      "cell_type": "code",
      "source": [
        "#importation des données\n",
        "data=pd.read_csv('ecg.csv')\n",
        "data.head()"
      ],
      "metadata": {
        "colab": {
          "base_uri": "https://localhost:8080/",
          "height": 299
        },
        "id": "RxyTkH6uDmFT",
        "outputId": "d687257a-caf1-4bfa-9da0-30ca702bb926"
      },
      "execution_count": 2,
      "outputs": [
        {
          "output_type": "execute_result",
          "data": {
            "text/plain": [
              "   -0.11252183  -2.8272038  -3.7738969  -4.3497511  -4.376041  -3.4749863  \\\n",
              "0    -1.100878   -3.996840   -4.285843   -4.506579  -4.022377   -3.234368   \n",
              "1    -0.567088   -2.593450   -3.874230   -4.584095  -4.187449   -3.151462   \n",
              "2     0.490473   -1.914407   -3.616364   -4.318823  -4.268016   -3.881110   \n",
              "3     0.800232   -0.874252   -2.384761   -3.973292  -4.338224   -3.802422   \n",
              "4    -1.507674   -3.574550   -4.478011   -4.408275  -3.321242   -2.105171   \n",
              "\n",
              "   -2.1814082  -1.8182865  -1.2505219  -0.47749208  ...  0.79216787  \\\n",
              "0   -1.566126   -0.992258   -0.754680     0.042321  ...    0.538356   \n",
              "1   -1.742940   -1.490659   -1.183580    -0.394229  ...    0.886073   \n",
              "2   -2.993280   -1.671131   -1.333884    -0.965629  ...    0.350816   \n",
              "3   -2.534510   -1.783423   -1.594450    -0.753199  ...    1.148884   \n",
              "4   -1.481048   -1.301362   -0.498240    -0.286928  ...    1.089068   \n",
              "\n",
              "   0.93354122  0.79695779  0.57862066  0.2577399  0.22807718  0.12343082  \\\n",
              "0    0.656881    0.787490    0.724046   0.555784    0.476333    0.773820   \n",
              "1    0.531452    0.311377   -0.021919  -0.713683   -0.532197    0.321097   \n",
              "2    0.499111    0.600345    0.842069   0.952074    0.990133    1.086798   \n",
              "3    0.958434    1.059025    1.371682   1.277392    0.960304    0.971020   \n",
              "4    0.983369    1.014124    0.952629   0.749326    1.007076    1.634990   \n",
              "\n",
              "   0.92528624  0.19313742  1.0  \n",
              "0    1.119621   -1.436250  1.0  \n",
              "1    0.904227   -0.421797  1.0  \n",
              "2    1.403011   -0.383564  1.0  \n",
              "3    1.614392    1.421456  1.0  \n",
              "4    1.493365   -0.783134  1.0  \n",
              "\n",
              "[5 rows x 141 columns]"
            ],
            "text/html": [
              "\n",
              "  <div id=\"df-dcdce746-e4f5-4763-baae-f9df3b56e4f5\">\n",
              "    <div class=\"colab-df-container\">\n",
              "      <div>\n",
              "<style scoped>\n",
              "    .dataframe tbody tr th:only-of-type {\n",
              "        vertical-align: middle;\n",
              "    }\n",
              "\n",
              "    .dataframe tbody tr th {\n",
              "        vertical-align: top;\n",
              "    }\n",
              "\n",
              "    .dataframe thead th {\n",
              "        text-align: right;\n",
              "    }\n",
              "</style>\n",
              "<table border=\"1\" class=\"dataframe\">\n",
              "  <thead>\n",
              "    <tr style=\"text-align: right;\">\n",
              "      <th></th>\n",
              "      <th>-0.11252183</th>\n",
              "      <th>-2.8272038</th>\n",
              "      <th>-3.7738969</th>\n",
              "      <th>-4.3497511</th>\n",
              "      <th>-4.376041</th>\n",
              "      <th>-3.4749863</th>\n",
              "      <th>-2.1814082</th>\n",
              "      <th>-1.8182865</th>\n",
              "      <th>-1.2505219</th>\n",
              "      <th>-0.47749208</th>\n",
              "      <th>...</th>\n",
              "      <th>0.79216787</th>\n",
              "      <th>0.93354122</th>\n",
              "      <th>0.79695779</th>\n",
              "      <th>0.57862066</th>\n",
              "      <th>0.2577399</th>\n",
              "      <th>0.22807718</th>\n",
              "      <th>0.12343082</th>\n",
              "      <th>0.92528624</th>\n",
              "      <th>0.19313742</th>\n",
              "      <th>1.0</th>\n",
              "    </tr>\n",
              "  </thead>\n",
              "  <tbody>\n",
              "    <tr>\n",
              "      <th>0</th>\n",
              "      <td>-1.100878</td>\n",
              "      <td>-3.996840</td>\n",
              "      <td>-4.285843</td>\n",
              "      <td>-4.506579</td>\n",
              "      <td>-4.022377</td>\n",
              "      <td>-3.234368</td>\n",
              "      <td>-1.566126</td>\n",
              "      <td>-0.992258</td>\n",
              "      <td>-0.754680</td>\n",
              "      <td>0.042321</td>\n",
              "      <td>...</td>\n",
              "      <td>0.538356</td>\n",
              "      <td>0.656881</td>\n",
              "      <td>0.787490</td>\n",
              "      <td>0.724046</td>\n",
              "      <td>0.555784</td>\n",
              "      <td>0.476333</td>\n",
              "      <td>0.773820</td>\n",
              "      <td>1.119621</td>\n",
              "      <td>-1.436250</td>\n",
              "      <td>1.0</td>\n",
              "    </tr>\n",
              "    <tr>\n",
              "      <th>1</th>\n",
              "      <td>-0.567088</td>\n",
              "      <td>-2.593450</td>\n",
              "      <td>-3.874230</td>\n",
              "      <td>-4.584095</td>\n",
              "      <td>-4.187449</td>\n",
              "      <td>-3.151462</td>\n",
              "      <td>-1.742940</td>\n",
              "      <td>-1.490659</td>\n",
              "      <td>-1.183580</td>\n",
              "      <td>-0.394229</td>\n",
              "      <td>...</td>\n",
              "      <td>0.886073</td>\n",
              "      <td>0.531452</td>\n",
              "      <td>0.311377</td>\n",
              "      <td>-0.021919</td>\n",
              "      <td>-0.713683</td>\n",
              "      <td>-0.532197</td>\n",
              "      <td>0.321097</td>\n",
              "      <td>0.904227</td>\n",
              "      <td>-0.421797</td>\n",
              "      <td>1.0</td>\n",
              "    </tr>\n",
              "    <tr>\n",
              "      <th>2</th>\n",
              "      <td>0.490473</td>\n",
              "      <td>-1.914407</td>\n",
              "      <td>-3.616364</td>\n",
              "      <td>-4.318823</td>\n",
              "      <td>-4.268016</td>\n",
              "      <td>-3.881110</td>\n",
              "      <td>-2.993280</td>\n",
              "      <td>-1.671131</td>\n",
              "      <td>-1.333884</td>\n",
              "      <td>-0.965629</td>\n",
              "      <td>...</td>\n",
              "      <td>0.350816</td>\n",
              "      <td>0.499111</td>\n",
              "      <td>0.600345</td>\n",
              "      <td>0.842069</td>\n",
              "      <td>0.952074</td>\n",
              "      <td>0.990133</td>\n",
              "      <td>1.086798</td>\n",
              "      <td>1.403011</td>\n",
              "      <td>-0.383564</td>\n",
              "      <td>1.0</td>\n",
              "    </tr>\n",
              "    <tr>\n",
              "      <th>3</th>\n",
              "      <td>0.800232</td>\n",
              "      <td>-0.874252</td>\n",
              "      <td>-2.384761</td>\n",
              "      <td>-3.973292</td>\n",
              "      <td>-4.338224</td>\n",
              "      <td>-3.802422</td>\n",
              "      <td>-2.534510</td>\n",
              "      <td>-1.783423</td>\n",
              "      <td>-1.594450</td>\n",
              "      <td>-0.753199</td>\n",
              "      <td>...</td>\n",
              "      <td>1.148884</td>\n",
              "      <td>0.958434</td>\n",
              "      <td>1.059025</td>\n",
              "      <td>1.371682</td>\n",
              "      <td>1.277392</td>\n",
              "      <td>0.960304</td>\n",
              "      <td>0.971020</td>\n",
              "      <td>1.614392</td>\n",
              "      <td>1.421456</td>\n",
              "      <td>1.0</td>\n",
              "    </tr>\n",
              "    <tr>\n",
              "      <th>4</th>\n",
              "      <td>-1.507674</td>\n",
              "      <td>-3.574550</td>\n",
              "      <td>-4.478011</td>\n",
              "      <td>-4.408275</td>\n",
              "      <td>-3.321242</td>\n",
              "      <td>-2.105171</td>\n",
              "      <td>-1.481048</td>\n",
              "      <td>-1.301362</td>\n",
              "      <td>-0.498240</td>\n",
              "      <td>-0.286928</td>\n",
              "      <td>...</td>\n",
              "      <td>1.089068</td>\n",
              "      <td>0.983369</td>\n",
              "      <td>1.014124</td>\n",
              "      <td>0.952629</td>\n",
              "      <td>0.749326</td>\n",
              "      <td>1.007076</td>\n",
              "      <td>1.634990</td>\n",
              "      <td>1.493365</td>\n",
              "      <td>-0.783134</td>\n",
              "      <td>1.0</td>\n",
              "    </tr>\n",
              "  </tbody>\n",
              "</table>\n",
              "<p>5 rows × 141 columns</p>\n",
              "</div>\n",
              "      <button class=\"colab-df-convert\" onclick=\"convertToInteractive('df-dcdce746-e4f5-4763-baae-f9df3b56e4f5')\"\n",
              "              title=\"Convert this dataframe to an interactive table.\"\n",
              "              style=\"display:none;\">\n",
              "        \n",
              "  <svg xmlns=\"http://www.w3.org/2000/svg\" height=\"24px\"viewBox=\"0 0 24 24\"\n",
              "       width=\"24px\">\n",
              "    <path d=\"M0 0h24v24H0V0z\" fill=\"none\"/>\n",
              "    <path d=\"M18.56 5.44l.94 2.06.94-2.06 2.06-.94-2.06-.94-.94-2.06-.94 2.06-2.06.94zm-11 1L8.5 8.5l.94-2.06 2.06-.94-2.06-.94L8.5 2.5l-.94 2.06-2.06.94zm10 10l.94 2.06.94-2.06 2.06-.94-2.06-.94-.94-2.06-.94 2.06-2.06.94z\"/><path d=\"M17.41 7.96l-1.37-1.37c-.4-.4-.92-.59-1.43-.59-.52 0-1.04.2-1.43.59L10.3 9.45l-7.72 7.72c-.78.78-.78 2.05 0 2.83L4 21.41c.39.39.9.59 1.41.59.51 0 1.02-.2 1.41-.59l7.78-7.78 2.81-2.81c.8-.78.8-2.07 0-2.86zM5.41 20L4 18.59l7.72-7.72 1.47 1.35L5.41 20z\"/>\n",
              "  </svg>\n",
              "      </button>\n",
              "      \n",
              "  <style>\n",
              "    .colab-df-container {\n",
              "      display:flex;\n",
              "      flex-wrap:wrap;\n",
              "      gap: 12px;\n",
              "    }\n",
              "\n",
              "    .colab-df-convert {\n",
              "      background-color: #E8F0FE;\n",
              "      border: none;\n",
              "      border-radius: 50%;\n",
              "      cursor: pointer;\n",
              "      display: none;\n",
              "      fill: #1967D2;\n",
              "      height: 32px;\n",
              "      padding: 0 0 0 0;\n",
              "      width: 32px;\n",
              "    }\n",
              "\n",
              "    .colab-df-convert:hover {\n",
              "      background-color: #E2EBFA;\n",
              "      box-shadow: 0px 1px 2px rgba(60, 64, 67, 0.3), 0px 1px 3px 1px rgba(60, 64, 67, 0.15);\n",
              "      fill: #174EA6;\n",
              "    }\n",
              "\n",
              "    [theme=dark] .colab-df-convert {\n",
              "      background-color: #3B4455;\n",
              "      fill: #D2E3FC;\n",
              "    }\n",
              "\n",
              "    [theme=dark] .colab-df-convert:hover {\n",
              "      background-color: #434B5C;\n",
              "      box-shadow: 0px 1px 3px 1px rgba(0, 0, 0, 0.15);\n",
              "      filter: drop-shadow(0px 1px 2px rgba(0, 0, 0, 0.3));\n",
              "      fill: #FFFFFF;\n",
              "    }\n",
              "  </style>\n",
              "\n",
              "      <script>\n",
              "        const buttonEl =\n",
              "          document.querySelector('#df-dcdce746-e4f5-4763-baae-f9df3b56e4f5 button.colab-df-convert');\n",
              "        buttonEl.style.display =\n",
              "          google.colab.kernel.accessAllowed ? 'block' : 'none';\n",
              "\n",
              "        async function convertToInteractive(key) {\n",
              "          const element = document.querySelector('#df-dcdce746-e4f5-4763-baae-f9df3b56e4f5');\n",
              "          const dataTable =\n",
              "            await google.colab.kernel.invokeFunction('convertToInteractive',\n",
              "                                                     [key], {});\n",
              "          if (!dataTable) return;\n",
              "\n",
              "          const docLinkHtml = 'Like what you see? Visit the ' +\n",
              "            '<a target=\"_blank\" href=https://colab.research.google.com/notebooks/data_table.ipynb>data table notebook</a>'\n",
              "            + ' to learn more about interactive tables.';\n",
              "          element.innerHTML = '';\n",
              "          dataTable['output_type'] = 'display_data';\n",
              "          await google.colab.output.renderOutput(dataTable, element);\n",
              "          const docLink = document.createElement('div');\n",
              "          docLink.innerHTML = docLinkHtml;\n",
              "          element.appendChild(docLink);\n",
              "        }\n",
              "      </script>\n",
              "    </div>\n",
              "  </div>\n",
              "  "
            ]
          },
          "metadata": {},
          "execution_count": 2
        }
      ]
    },
    {
      "cell_type": "code",
      "source": [
        "data.shape"
      ],
      "metadata": {
        "colab": {
          "base_uri": "https://localhost:8080/"
        },
        "id": "5oeIdI3DDxyb",
        "outputId": "c553756a-845f-4457-a6d2-7e839047d137"
      },
      "execution_count": 3,
      "outputs": [
        {
          "output_type": "execute_result",
          "data": {
            "text/plain": [
              "(4997, 141)"
            ]
          },
          "metadata": {},
          "execution_count": 3
        }
      ]
    },
    {
      "cell_type": "code",
      "source": [
        "data.isnull().mean()"
      ],
      "metadata": {
        "colab": {
          "base_uri": "https://localhost:8080/"
        },
        "id": "zQuM-cc6EEwH",
        "outputId": "e9eb7183-fc77-4afd-c4f8-978ae57fd995"
      },
      "execution_count": 4,
      "outputs": [
        {
          "output_type": "execute_result",
          "data": {
            "text/plain": [
              "-0.11252183    0.0\n",
              "-2.8272038     0.0\n",
              "-3.7738969     0.0\n",
              "-4.3497511     0.0\n",
              "-4.376041      0.0\n",
              "              ... \n",
              "0.22807718     0.0\n",
              "0.12343082     0.0\n",
              "0.92528624     0.0\n",
              "0.19313742     0.0\n",
              "1.0            0.0\n",
              "Length: 141, dtype: float64"
            ]
          },
          "metadata": {},
          "execution_count": 4
        }
      ]
    },
    {
      "cell_type": "code",
      "source": [
        "data.describe()"
      ],
      "metadata": {
        "colab": {
          "base_uri": "https://localhost:8080/",
          "height": 394
        },
        "id": "gnnCp3vaEdaR",
        "outputId": "b321e6b8-3600-45b3-cfba-f59600b45aec"
      },
      "execution_count": 5,
      "outputs": [
        {
          "output_type": "execute_result",
          "data": {
            "text/plain": [
              "       -0.11252183   -2.8272038   -3.7738969   -4.3497511    -4.376041  \\\n",
              "count  4997.000000  4997.000000  4997.000000  4997.000000  4997.000000   \n",
              "mean     -0.262532    -1.649593    -2.492366    -3.119508    -3.167414   \n",
              "std       1.152563     1.445591     1.386477     1.302936     1.104513   \n",
              "min      -6.729499    -7.090374    -5.132459    -5.363241    -5.375715   \n",
              "25%      -1.004439    -2.701395    -3.667851    -4.227203    -4.007389   \n",
              "50%      -0.297583    -1.661891    -2.585872    -3.388020    -3.468898   \n",
              "75%       0.500057    -0.677702    -1.514058    -2.235425    -2.531019   \n",
              "max       4.966414     3.479689     2.660597     1.899798     2.147015   \n",
              "\n",
              "        -3.4749863   -2.1814082   -1.8182865   -1.2505219  -0.47749208  ...  \\\n",
              "count  4997.000000  4997.000000  4997.000000  4997.000000  4997.000000  ...   \n",
              "mean     -2.866184    -2.272863    -1.797750    -1.409816    -0.935898  ...   \n",
              "std       0.906362     0.731666     0.622856     0.636923     0.657822  ...   \n",
              "min      -5.330194    -4.782240    -4.311288    -4.071361    -4.142476  ...   \n",
              "25%      -3.480760    -2.779853    -2.165844    -1.773994    -1.362007  ...   \n",
              "50%      -2.946908    -2.285430    -1.750063    -1.422461    -0.910449  ...   \n",
              "75%      -2.398789    -1.823473    -1.483699    -1.063533    -0.476386  ...   \n",
              "max       1.614375     1.868728     1.804251     1.683730     1.898627  ...   \n",
              "\n",
              "        0.79216787   0.93354122   0.79695779   0.57862066    0.2577399  \\\n",
              "count  4997.000000  4997.000000  4997.000000  4997.000000  4997.000000   \n",
              "mean      0.071168    -0.062821    -0.276300    -0.507968    -0.761527   \n",
              "std       1.404529     1.646210     1.894644     2.059515     2.086289   \n",
              "min      -4.167040    -4.557576    -4.530488    -4.563270    -5.150100   \n",
              "25%      -1.088029    -1.588688    -2.147271    -2.731039    -3.031581   \n",
              "50%       0.658234     0.717676     0.604723     0.333481    -0.030771   \n",
              "75%       1.169415     1.238671     1.264441     1.234413     1.034046   \n",
              "max       3.007606     2.854680     2.912394     2.937685     3.351437   \n",
              "\n",
              "        0.22807718   0.12343082   0.92528624   0.19313742          1.0  \n",
              "count  4997.000000  4997.000000  4997.000000  4997.000000  4997.000000  \n",
              "mean     -0.835386    -0.642892    -0.487950    -0.706754     0.583950  \n",
              "std       2.056447     1.859564     1.831162     1.414498     0.492951  \n",
              "min      -4.880460    -5.496107    -5.880890    -6.092227     0.000000  \n",
              "25%      -2.868739    -2.155084    -1.658548    -1.596867     0.000000  \n",
              "50%      -0.202761    -0.194480    -0.160768    -0.568775     1.000000  \n",
              "75%       0.945220     0.951666     1.002628     0.271822     1.000000  \n",
              "max       3.432519     3.579448     4.425976     7.402103     1.000000  \n",
              "\n",
              "[8 rows x 141 columns]"
            ],
            "text/html": [
              "\n",
              "  <div id=\"df-bec4a706-fa53-459e-a94e-caca73493b02\">\n",
              "    <div class=\"colab-df-container\">\n",
              "      <div>\n",
              "<style scoped>\n",
              "    .dataframe tbody tr th:only-of-type {\n",
              "        vertical-align: middle;\n",
              "    }\n",
              "\n",
              "    .dataframe tbody tr th {\n",
              "        vertical-align: top;\n",
              "    }\n",
              "\n",
              "    .dataframe thead th {\n",
              "        text-align: right;\n",
              "    }\n",
              "</style>\n",
              "<table border=\"1\" class=\"dataframe\">\n",
              "  <thead>\n",
              "    <tr style=\"text-align: right;\">\n",
              "      <th></th>\n",
              "      <th>-0.11252183</th>\n",
              "      <th>-2.8272038</th>\n",
              "      <th>-3.7738969</th>\n",
              "      <th>-4.3497511</th>\n",
              "      <th>-4.376041</th>\n",
              "      <th>-3.4749863</th>\n",
              "      <th>-2.1814082</th>\n",
              "      <th>-1.8182865</th>\n",
              "      <th>-1.2505219</th>\n",
              "      <th>-0.47749208</th>\n",
              "      <th>...</th>\n",
              "      <th>0.79216787</th>\n",
              "      <th>0.93354122</th>\n",
              "      <th>0.79695779</th>\n",
              "      <th>0.57862066</th>\n",
              "      <th>0.2577399</th>\n",
              "      <th>0.22807718</th>\n",
              "      <th>0.12343082</th>\n",
              "      <th>0.92528624</th>\n",
              "      <th>0.19313742</th>\n",
              "      <th>1.0</th>\n",
              "    </tr>\n",
              "  </thead>\n",
              "  <tbody>\n",
              "    <tr>\n",
              "      <th>count</th>\n",
              "      <td>4997.000000</td>\n",
              "      <td>4997.000000</td>\n",
              "      <td>4997.000000</td>\n",
              "      <td>4997.000000</td>\n",
              "      <td>4997.000000</td>\n",
              "      <td>4997.000000</td>\n",
              "      <td>4997.000000</td>\n",
              "      <td>4997.000000</td>\n",
              "      <td>4997.000000</td>\n",
              "      <td>4997.000000</td>\n",
              "      <td>...</td>\n",
              "      <td>4997.000000</td>\n",
              "      <td>4997.000000</td>\n",
              "      <td>4997.000000</td>\n",
              "      <td>4997.000000</td>\n",
              "      <td>4997.000000</td>\n",
              "      <td>4997.000000</td>\n",
              "      <td>4997.000000</td>\n",
              "      <td>4997.000000</td>\n",
              "      <td>4997.000000</td>\n",
              "      <td>4997.000000</td>\n",
              "    </tr>\n",
              "    <tr>\n",
              "      <th>mean</th>\n",
              "      <td>-0.262532</td>\n",
              "      <td>-1.649593</td>\n",
              "      <td>-2.492366</td>\n",
              "      <td>-3.119508</td>\n",
              "      <td>-3.167414</td>\n",
              "      <td>-2.866184</td>\n",
              "      <td>-2.272863</td>\n",
              "      <td>-1.797750</td>\n",
              "      <td>-1.409816</td>\n",
              "      <td>-0.935898</td>\n",
              "      <td>...</td>\n",
              "      <td>0.071168</td>\n",
              "      <td>-0.062821</td>\n",
              "      <td>-0.276300</td>\n",
              "      <td>-0.507968</td>\n",
              "      <td>-0.761527</td>\n",
              "      <td>-0.835386</td>\n",
              "      <td>-0.642892</td>\n",
              "      <td>-0.487950</td>\n",
              "      <td>-0.706754</td>\n",
              "      <td>0.583950</td>\n",
              "    </tr>\n",
              "    <tr>\n",
              "      <th>std</th>\n",
              "      <td>1.152563</td>\n",
              "      <td>1.445591</td>\n",
              "      <td>1.386477</td>\n",
              "      <td>1.302936</td>\n",
              "      <td>1.104513</td>\n",
              "      <td>0.906362</td>\n",
              "      <td>0.731666</td>\n",
              "      <td>0.622856</td>\n",
              "      <td>0.636923</td>\n",
              "      <td>0.657822</td>\n",
              "      <td>...</td>\n",
              "      <td>1.404529</td>\n",
              "      <td>1.646210</td>\n",
              "      <td>1.894644</td>\n",
              "      <td>2.059515</td>\n",
              "      <td>2.086289</td>\n",
              "      <td>2.056447</td>\n",
              "      <td>1.859564</td>\n",
              "      <td>1.831162</td>\n",
              "      <td>1.414498</td>\n",
              "      <td>0.492951</td>\n",
              "    </tr>\n",
              "    <tr>\n",
              "      <th>min</th>\n",
              "      <td>-6.729499</td>\n",
              "      <td>-7.090374</td>\n",
              "      <td>-5.132459</td>\n",
              "      <td>-5.363241</td>\n",
              "      <td>-5.375715</td>\n",
              "      <td>-5.330194</td>\n",
              "      <td>-4.782240</td>\n",
              "      <td>-4.311288</td>\n",
              "      <td>-4.071361</td>\n",
              "      <td>-4.142476</td>\n",
              "      <td>...</td>\n",
              "      <td>-4.167040</td>\n",
              "      <td>-4.557576</td>\n",
              "      <td>-4.530488</td>\n",
              "      <td>-4.563270</td>\n",
              "      <td>-5.150100</td>\n",
              "      <td>-4.880460</td>\n",
              "      <td>-5.496107</td>\n",
              "      <td>-5.880890</td>\n",
              "      <td>-6.092227</td>\n",
              "      <td>0.000000</td>\n",
              "    </tr>\n",
              "    <tr>\n",
              "      <th>25%</th>\n",
              "      <td>-1.004439</td>\n",
              "      <td>-2.701395</td>\n",
              "      <td>-3.667851</td>\n",
              "      <td>-4.227203</td>\n",
              "      <td>-4.007389</td>\n",
              "      <td>-3.480760</td>\n",
              "      <td>-2.779853</td>\n",
              "      <td>-2.165844</td>\n",
              "      <td>-1.773994</td>\n",
              "      <td>-1.362007</td>\n",
              "      <td>...</td>\n",
              "      <td>-1.088029</td>\n",
              "      <td>-1.588688</td>\n",
              "      <td>-2.147271</td>\n",
              "      <td>-2.731039</td>\n",
              "      <td>-3.031581</td>\n",
              "      <td>-2.868739</td>\n",
              "      <td>-2.155084</td>\n",
              "      <td>-1.658548</td>\n",
              "      <td>-1.596867</td>\n",
              "      <td>0.000000</td>\n",
              "    </tr>\n",
              "    <tr>\n",
              "      <th>50%</th>\n",
              "      <td>-0.297583</td>\n",
              "      <td>-1.661891</td>\n",
              "      <td>-2.585872</td>\n",
              "      <td>-3.388020</td>\n",
              "      <td>-3.468898</td>\n",
              "      <td>-2.946908</td>\n",
              "      <td>-2.285430</td>\n",
              "      <td>-1.750063</td>\n",
              "      <td>-1.422461</td>\n",
              "      <td>-0.910449</td>\n",
              "      <td>...</td>\n",
              "      <td>0.658234</td>\n",
              "      <td>0.717676</td>\n",
              "      <td>0.604723</td>\n",
              "      <td>0.333481</td>\n",
              "      <td>-0.030771</td>\n",
              "      <td>-0.202761</td>\n",
              "      <td>-0.194480</td>\n",
              "      <td>-0.160768</td>\n",
              "      <td>-0.568775</td>\n",
              "      <td>1.000000</td>\n",
              "    </tr>\n",
              "    <tr>\n",
              "      <th>75%</th>\n",
              "      <td>0.500057</td>\n",
              "      <td>-0.677702</td>\n",
              "      <td>-1.514058</td>\n",
              "      <td>-2.235425</td>\n",
              "      <td>-2.531019</td>\n",
              "      <td>-2.398789</td>\n",
              "      <td>-1.823473</td>\n",
              "      <td>-1.483699</td>\n",
              "      <td>-1.063533</td>\n",
              "      <td>-0.476386</td>\n",
              "      <td>...</td>\n",
              "      <td>1.169415</td>\n",
              "      <td>1.238671</td>\n",
              "      <td>1.264441</td>\n",
              "      <td>1.234413</td>\n",
              "      <td>1.034046</td>\n",
              "      <td>0.945220</td>\n",
              "      <td>0.951666</td>\n",
              "      <td>1.002628</td>\n",
              "      <td>0.271822</td>\n",
              "      <td>1.000000</td>\n",
              "    </tr>\n",
              "    <tr>\n",
              "      <th>max</th>\n",
              "      <td>4.966414</td>\n",
              "      <td>3.479689</td>\n",
              "      <td>2.660597</td>\n",
              "      <td>1.899798</td>\n",
              "      <td>2.147015</td>\n",
              "      <td>1.614375</td>\n",
              "      <td>1.868728</td>\n",
              "      <td>1.804251</td>\n",
              "      <td>1.683730</td>\n",
              "      <td>1.898627</td>\n",
              "      <td>...</td>\n",
              "      <td>3.007606</td>\n",
              "      <td>2.854680</td>\n",
              "      <td>2.912394</td>\n",
              "      <td>2.937685</td>\n",
              "      <td>3.351437</td>\n",
              "      <td>3.432519</td>\n",
              "      <td>3.579448</td>\n",
              "      <td>4.425976</td>\n",
              "      <td>7.402103</td>\n",
              "      <td>1.000000</td>\n",
              "    </tr>\n",
              "  </tbody>\n",
              "</table>\n",
              "<p>8 rows × 141 columns</p>\n",
              "</div>\n",
              "      <button class=\"colab-df-convert\" onclick=\"convertToInteractive('df-bec4a706-fa53-459e-a94e-caca73493b02')\"\n",
              "              title=\"Convert this dataframe to an interactive table.\"\n",
              "              style=\"display:none;\">\n",
              "        \n",
              "  <svg xmlns=\"http://www.w3.org/2000/svg\" height=\"24px\"viewBox=\"0 0 24 24\"\n",
              "       width=\"24px\">\n",
              "    <path d=\"M0 0h24v24H0V0z\" fill=\"none\"/>\n",
              "    <path d=\"M18.56 5.44l.94 2.06.94-2.06 2.06-.94-2.06-.94-.94-2.06-.94 2.06-2.06.94zm-11 1L8.5 8.5l.94-2.06 2.06-.94-2.06-.94L8.5 2.5l-.94 2.06-2.06.94zm10 10l.94 2.06.94-2.06 2.06-.94-2.06-.94-.94-2.06-.94 2.06-2.06.94z\"/><path d=\"M17.41 7.96l-1.37-1.37c-.4-.4-.92-.59-1.43-.59-.52 0-1.04.2-1.43.59L10.3 9.45l-7.72 7.72c-.78.78-.78 2.05 0 2.83L4 21.41c.39.39.9.59 1.41.59.51 0 1.02-.2 1.41-.59l7.78-7.78 2.81-2.81c.8-.78.8-2.07 0-2.86zM5.41 20L4 18.59l7.72-7.72 1.47 1.35L5.41 20z\"/>\n",
              "  </svg>\n",
              "      </button>\n",
              "      \n",
              "  <style>\n",
              "    .colab-df-container {\n",
              "      display:flex;\n",
              "      flex-wrap:wrap;\n",
              "      gap: 12px;\n",
              "    }\n",
              "\n",
              "    .colab-df-convert {\n",
              "      background-color: #E8F0FE;\n",
              "      border: none;\n",
              "      border-radius: 50%;\n",
              "      cursor: pointer;\n",
              "      display: none;\n",
              "      fill: #1967D2;\n",
              "      height: 32px;\n",
              "      padding: 0 0 0 0;\n",
              "      width: 32px;\n",
              "    }\n",
              "\n",
              "    .colab-df-convert:hover {\n",
              "      background-color: #E2EBFA;\n",
              "      box-shadow: 0px 1px 2px rgba(60, 64, 67, 0.3), 0px 1px 3px 1px rgba(60, 64, 67, 0.15);\n",
              "      fill: #174EA6;\n",
              "    }\n",
              "\n",
              "    [theme=dark] .colab-df-convert {\n",
              "      background-color: #3B4455;\n",
              "      fill: #D2E3FC;\n",
              "    }\n",
              "\n",
              "    [theme=dark] .colab-df-convert:hover {\n",
              "      background-color: #434B5C;\n",
              "      box-shadow: 0px 1px 3px 1px rgba(0, 0, 0, 0.15);\n",
              "      filter: drop-shadow(0px 1px 2px rgba(0, 0, 0, 0.3));\n",
              "      fill: #FFFFFF;\n",
              "    }\n",
              "  </style>\n",
              "\n",
              "      <script>\n",
              "        const buttonEl =\n",
              "          document.querySelector('#df-bec4a706-fa53-459e-a94e-caca73493b02 button.colab-df-convert');\n",
              "        buttonEl.style.display =\n",
              "          google.colab.kernel.accessAllowed ? 'block' : 'none';\n",
              "\n",
              "        async function convertToInteractive(key) {\n",
              "          const element = document.querySelector('#df-bec4a706-fa53-459e-a94e-caca73493b02');\n",
              "          const dataTable =\n",
              "            await google.colab.kernel.invokeFunction('convertToInteractive',\n",
              "                                                     [key], {});\n",
              "          if (!dataTable) return;\n",
              "\n",
              "          const docLinkHtml = 'Like what you see? Visit the ' +\n",
              "            '<a target=\"_blank\" href=https://colab.research.google.com/notebooks/data_table.ipynb>data table notebook</a>'\n",
              "            + ' to learn more about interactive tables.';\n",
              "          element.innerHTML = '';\n",
              "          dataTable['output_type'] = 'display_data';\n",
              "          await google.colab.output.renderOutput(dataTable, element);\n",
              "          const docLink = document.createElement('div');\n",
              "          docLink.innerHTML = docLinkHtml;\n",
              "          element.appendChild(docLink);\n",
              "        }\n",
              "      </script>\n",
              "    </div>\n",
              "  </div>\n",
              "  "
            ]
          },
          "metadata": {},
          "execution_count": 5
        }
      ]
    },
    {
      "cell_type": "code",
      "source": [
        "data.duplicated()"
      ],
      "metadata": {
        "colab": {
          "base_uri": "https://localhost:8080/"
        },
        "id": "gnCckg9tEmkC",
        "outputId": "41f08e40-f231-4159-b6dc-46627237cdf9"
      },
      "execution_count": 6,
      "outputs": [
        {
          "output_type": "execute_result",
          "data": {
            "text/plain": [
              "0       False\n",
              "1       False\n",
              "2       False\n",
              "3       False\n",
              "4       False\n",
              "        ...  \n",
              "4992    False\n",
              "4993    False\n",
              "4994    False\n",
              "4995    False\n",
              "4996    False\n",
              "Length: 4997, dtype: bool"
            ]
          },
          "metadata": {},
          "execution_count": 6
        }
      ]
    },
    {
      "cell_type": "code",
      "source": [
        "#division du jeu de données en jeu d'entrainement et de test\n",
        "X=data.iloc[:,:-1]\n",
        "y=data.iloc[:,-1]\n",
        "Xtrain,Xtest,ytrain,ytest=train_test_split(X,y,test_size=0.3)"
      ],
      "metadata": {
        "id": "ybulz63uE8ai"
      },
      "execution_count": 7,
      "outputs": []
    },
    {
      "cell_type": "code",
      "source": [
        "# centrons et réduisons les données\n",
        "from sklearn import preprocessing\n",
        "scale=preprocessing.StandardScaler()\n",
        "scale.fit_transform(Xtrain,Xtest)"
      ],
      "metadata": {
        "colab": {
          "base_uri": "https://localhost:8080/"
        },
        "id": "eVPTpgh2LcIq",
        "outputId": "eb9c4051-82b8-487e-9b7d-b4973e5dd53e"
      },
      "execution_count": 8,
      "outputs": [
        {
          "output_type": "execute_result",
          "data": {
            "text/plain": [
              "array([[-1.54370475, -1.35666326, -1.01063987, ...,  0.33454639,\n",
              "        -0.28469631, -1.27862778],\n",
              "       [ 0.98208149,  1.22025169,  1.09123351, ..., -1.01699602,\n",
              "        -0.5591672 ,  0.24578008],\n",
              "       [-0.45196869, -0.0526829 ,  0.12422541, ..., -0.04505464,\n",
              "        -0.13966849, -0.77914358],\n",
              "       ...,\n",
              "       [-0.13044037, -0.44907994, -0.84968622, ...,  0.25125571,\n",
              "         0.51356343,  0.27211278],\n",
              "       [ 0.88507272,  0.51728725,  0.15880688, ..., -0.1386001 ,\n",
              "         0.16960077,  0.31113035],\n",
              "       [-0.83326777, -0.15842676,  0.50364053, ...,  0.00847948,\n",
              "        -0.10033588,  0.74833589]])"
            ]
          },
          "metadata": {},
          "execution_count": 8
        }
      ]
    },
    {
      "cell_type": "code",
      "source": [
        "#construction du modèle\n",
        "from sklearn import svm\n",
        "classifier = svm.SVC(kernel='rbf' ,gamma=50)\n",
        "\n",
        "#entrainement du modèle\n",
        "classifier.fit(Xtrain,ytrain)"
      ],
      "metadata": {
        "colab": {
          "base_uri": "https://localhost:8080/",
          "height": 75
        },
        "id": "5oKmIcPjMWZc",
        "outputId": "d362e71f-d949-4fb3-849a-4fa517bc435d"
      },
      "execution_count": 9,
      "outputs": [
        {
          "output_type": "execute_result",
          "data": {
            "text/plain": [
              "SVC(gamma=50)"
            ],
            "text/html": [
              "<style>#sk-container-id-1 {color: black;background-color: white;}#sk-container-id-1 pre{padding: 0;}#sk-container-id-1 div.sk-toggleable {background-color: white;}#sk-container-id-1 label.sk-toggleable__label {cursor: pointer;display: block;width: 100%;margin-bottom: 0;padding: 0.3em;box-sizing: border-box;text-align: center;}#sk-container-id-1 label.sk-toggleable__label-arrow:before {content: \"▸\";float: left;margin-right: 0.25em;color: #696969;}#sk-container-id-1 label.sk-toggleable__label-arrow:hover:before {color: black;}#sk-container-id-1 div.sk-estimator:hover label.sk-toggleable__label-arrow:before {color: black;}#sk-container-id-1 div.sk-toggleable__content {max-height: 0;max-width: 0;overflow: hidden;text-align: left;background-color: #f0f8ff;}#sk-container-id-1 div.sk-toggleable__content pre {margin: 0.2em;color: black;border-radius: 0.25em;background-color: #f0f8ff;}#sk-container-id-1 input.sk-toggleable__control:checked~div.sk-toggleable__content {max-height: 200px;max-width: 100%;overflow: auto;}#sk-container-id-1 input.sk-toggleable__control:checked~label.sk-toggleable__label-arrow:before {content: \"▾\";}#sk-container-id-1 div.sk-estimator input.sk-toggleable__control:checked~label.sk-toggleable__label {background-color: #d4ebff;}#sk-container-id-1 div.sk-label input.sk-toggleable__control:checked~label.sk-toggleable__label {background-color: #d4ebff;}#sk-container-id-1 input.sk-hidden--visually {border: 0;clip: rect(1px 1px 1px 1px);clip: rect(1px, 1px, 1px, 1px);height: 1px;margin: -1px;overflow: hidden;padding: 0;position: absolute;width: 1px;}#sk-container-id-1 div.sk-estimator {font-family: monospace;background-color: #f0f8ff;border: 1px dotted black;border-radius: 0.25em;box-sizing: border-box;margin-bottom: 0.5em;}#sk-container-id-1 div.sk-estimator:hover {background-color: #d4ebff;}#sk-container-id-1 div.sk-parallel-item::after {content: \"\";width: 100%;border-bottom: 1px solid gray;flex-grow: 1;}#sk-container-id-1 div.sk-label:hover label.sk-toggleable__label {background-color: #d4ebff;}#sk-container-id-1 div.sk-serial::before {content: \"\";position: absolute;border-left: 1px solid gray;box-sizing: border-box;top: 0;bottom: 0;left: 50%;z-index: 0;}#sk-container-id-1 div.sk-serial {display: flex;flex-direction: column;align-items: center;background-color: white;padding-right: 0.2em;padding-left: 0.2em;position: relative;}#sk-container-id-1 div.sk-item {position: relative;z-index: 1;}#sk-container-id-1 div.sk-parallel {display: flex;align-items: stretch;justify-content: center;background-color: white;position: relative;}#sk-container-id-1 div.sk-item::before, #sk-container-id-1 div.sk-parallel-item::before {content: \"\";position: absolute;border-left: 1px solid gray;box-sizing: border-box;top: 0;bottom: 0;left: 50%;z-index: -1;}#sk-container-id-1 div.sk-parallel-item {display: flex;flex-direction: column;z-index: 1;position: relative;background-color: white;}#sk-container-id-1 div.sk-parallel-item:first-child::after {align-self: flex-end;width: 50%;}#sk-container-id-1 div.sk-parallel-item:last-child::after {align-self: flex-start;width: 50%;}#sk-container-id-1 div.sk-parallel-item:only-child::after {width: 0;}#sk-container-id-1 div.sk-dashed-wrapped {border: 1px dashed gray;margin: 0 0.4em 0.5em 0.4em;box-sizing: border-box;padding-bottom: 0.4em;background-color: white;}#sk-container-id-1 div.sk-label label {font-family: monospace;font-weight: bold;display: inline-block;line-height: 1.2em;}#sk-container-id-1 div.sk-label-container {text-align: center;}#sk-container-id-1 div.sk-container {/* jupyter's `normalize.less` sets `[hidden] { display: none; }` but bootstrap.min.css set `[hidden] { display: none !important; }` so we also need the `!important` here to be able to override the default hidden behavior on the sphinx rendered scikit-learn.org. See: https://github.com/scikit-learn/scikit-learn/issues/21755 */display: inline-block !important;position: relative;}#sk-container-id-1 div.sk-text-repr-fallback {display: none;}</style><div id=\"sk-container-id-1\" class=\"sk-top-container\"><div class=\"sk-text-repr-fallback\"><pre>SVC(gamma=50)</pre><b>In a Jupyter environment, please rerun this cell to show the HTML representation or trust the notebook. <br />On GitHub, the HTML representation is unable to render, please try loading this page with nbviewer.org.</b></div><div class=\"sk-container\" hidden><div class=\"sk-item\"><div class=\"sk-estimator sk-toggleable\"><input class=\"sk-toggleable__control sk-hidden--visually\" id=\"sk-estimator-id-1\" type=\"checkbox\" checked><label for=\"sk-estimator-id-1\" class=\"sk-toggleable__label sk-toggleable__label-arrow\">SVC</label><div class=\"sk-toggleable__content\"><pre>SVC(gamma=50)</pre></div></div></div></div></div>"
            ]
          },
          "metadata": {},
          "execution_count": 9
        }
      ]
    },
    {
      "cell_type": "code",
      "source": [
        "#faisons à présent les prédictions\n",
        "y_pred=classifier.predict(Xtest)\n",
        "y_pred"
      ],
      "metadata": {
        "colab": {
          "base_uri": "https://localhost:8080/"
        },
        "id": "O_4-9cm5NCfI",
        "outputId": "338fba29-a7b1-48d1-e5c2-e72b7f532f2f"
      },
      "execution_count": 10,
      "outputs": [
        {
          "output_type": "execute_result",
          "data": {
            "text/plain": [
              "array([1., 1., 1., ..., 1., 1., 1.])"
            ]
          },
          "metadata": {},
          "execution_count": 10
        }
      ]
    },
    {
      "cell_type": "code",
      "source": [
        "#petite comparaison avec les étiquettes réelles\n",
        "ytest.iloc[0:4]\n",
        "\n",
        "#matrice de confusion\n",
        "from sklearn import metrics\n",
        "metrics.confusion_matrix(ytest,y_pred)"
      ],
      "metadata": {
        "colab": {
          "base_uri": "https://localhost:8080/"
        },
        "id": "bEgfUlHpNf6l",
        "outputId": "54d518c8-2d25-4438-86fc-ffe6b0fb7bbf"
      },
      "execution_count": 14,
      "outputs": [
        {
          "output_type": "execute_result",
          "data": {
            "text/plain": [
              "array([[  0, 636],\n",
              "       [  0, 864]])"
            ]
          },
          "metadata": {},
          "execution_count": 14
        }
      ]
    },
    {
      "cell_type": "markdown",
      "source": [
        "Le modèle prédity qu'aucun patients n'est sain et que 643 comportent une anomalie à tord.\n",
        "Il prédit également 857 comportant une anomalie et aucun sain à tord.\n"
      ],
      "metadata": {
        "id": "s_qUi8IHOZ0I"
      }
    },
    {
      "cell_type": "code",
      "source": [
        "#traçons la courbe ROC  et observons la\n",
        "fpr,tpr,thr=metrics.roc_curve(ytest,y_pred)\n",
        "\n",
        "#calcule de l'aire sous la courbe ROC\n",
        "auc=metrics.auc(fpr,tpr)"
      ],
      "metadata": {
        "id": "9ApEeO-BNwnh"
      },
      "execution_count": 15,
      "outputs": []
    },
    {
      "cell_type": "code",
      "source": [
        "#création d'une figure \n",
        "fig=plt.figure(figsize=(7,7))\n",
        "\n",
        "#traçons la courbe des trues positifs rate en fonction des falses positifs rate\n",
        "plt.plot(fpr,tpr, 'o-' ,lw=2 , label=f'gamma=50 , AUC={auc}')\n",
        "plt.legend(loc='lower right' ,fontsize=14)\n",
        "\n",
        "#titres\n",
        "plt.xlabel('True Positif Rate',fontsize=14)\n",
        "plt.ylabel('False Positif Rate',fontsize=14)\n",
        "plt.title('SVM ROC Curve' , fontsize=14)\n",
        "\n",
        "plt.show()"
      ],
      "metadata": {
        "colab": {
          "base_uri": "https://localhost:8080/",
          "height": 647
        },
        "id": "DCdp8IgYQb3r",
        "outputId": "66d4cabb-3ed5-415c-98cd-e29e1db072d9"
      },
      "execution_count": 17,
      "outputs": [
        {
          "output_type": "display_data",
          "data": {
            "text/plain": [
              "<Figure size 700x700 with 1 Axes>"
            ],
            "image/png": "[encoded data removed]"
          },
          "metadata": {}
        }
      ]
    },
    {
      "cell_type": "markdown",
      "source": [
        "L'auc est égale à 0.5 donc le modèle est incapable de discriminé les classes positives des classes négatives."
      ],
      "metadata": {
        "id": "1E9e9AipmKuc"
      }
    },
    {
      "cell_type": "markdown",
      "source": [
        "# Optimisation des performances du modèle"
      ],
      "metadata": {
        "id": "03PTH_tymi6P"
      }
    },
    {
      "cell_type": "markdown",
      "source": [
        "Choisissons des valeurs optimales pour le modele à l'aide d'une validation croisée sur le jeu d'entrainement"
      ],
      "metadata": {
        "id": "e15tGy03nIXX"
      }
    },
    {
      "cell_type": "code",
      "source": [
        "from sklearn.model_selection import GridSearchCV\n",
        "\n",
        "#choisissons 6 valeurs pour C entre le 10^-2 et 10^3\n",
        "C_range=np.logspace(-2,3,6)\n",
        "\n",
        "#4 pour gamma entre 10^-2 et 10\n",
        "gamma_range=np.logspace(-2,1,4)\n",
        "\n",
        "#critere de selection du meilleur  modele \n",
        "score='roc_auc'\n",
        "\n",
        "# grille de hyperparamètres à tester et leurs valeurs possibles\n",
        "param_grid={'C':C_range,'gamma':gamma_range}\n",
        "\n",
        "# initialiser une recherche sur grille pour trouver les meilleurs hyperparamètres\n",
        "grid=GridSearchCV(svm.SVC(kernel='rbf') ,param_grid, cv=5, scoring=score)\n",
        "\n",
        "# faire tourner la recherche sur grille\n",
        "grid.fit(Xtrain,ytrain)\n",
        "\n",
        "#les parametres optimaux\n",
        "grid.best_params_,grid.best_score_"
      ],
      "metadata": {
        "colab": {
          "base_uri": "https://localhost:8080/"
        },
        "id": "w-eG_qh9SFKQ",
        "outputId": "6e47faee-8e98-4506-a78f-22eb32176ea1"
      },
      "execution_count": 18,
      "outputs": [
        {
          "output_type": "execute_result",
          "data": {
            "text/plain": [
              "({'C': 1.0, 'gamma': 0.1}, 0.9984091859546679)"
            ]
          },
          "metadata": {},
          "execution_count": 18
        }
      ]
    },
    {
      "cell_type": "code",
      "source": [
        "# prédire sur le jeu de test avec le modèle optimisé\n",
        "y_pred_cv=grid.decision_function(Xtest)\n",
        "\n",
        "#construire la courbe ROC du modèle optimisé\n",
        "fpr_cv, tpr_cv, thr_cv = metrics.roc_curve(ytest, y_pred_cv)\n",
        "\n",
        "# calculer l'aire sous la courbe ROC du modèle optimisé\n",
        "auc_cv = metrics.auc(fpr_cv, tpr_cv)\n",
        "\n",
        "\n",
        "# créer une figure\n",
        "fig = plt.figure(figsize=(7, 7))\n",
        "\n",
        "# afficher la courbe ROC précédente\n",
        "plt.plot(fpr, tpr, '-', lw=2, label='gamma=0.01, AUC=%.2f' % auc)\n",
        "\n",
        "# afficher la courbe ROC du modèle optimisé\n",
        "plt.plot(fpr_cv, tpr_cv, '-', lw=2, label=f\"gamma={grid.best_params_['gamma']}, AUC={auc_cv.round()}\")\n",
        "         \n",
        "\n",
        "# donner un titre aux axes et au graphique\n",
        "plt.xlabel('False Positive Rate', fontsize=16)\n",
        "plt.ylabel('True Positive Rate', fontsize=16)\n",
        "plt.title('SVM ROC Curve', fontsize=16)\n",
        "\n",
        "# afficher la légende\n",
        "plt.legend(loc=\"lower right\", fontsize=14)\n",
        "\n",
        "# afficher l'image\n",
        "plt.show()"
      ],
      "metadata": {
        "colab": {
          "base_uri": "https://localhost:8080/",
          "height": 649
        },
        "id": "xtFWXuxMwWdk",
        "outputId": "0afb5c7f-cbaa-4ae8-deb4-7fab36b35173"
      },
      "execution_count": 22,
      "outputs": [
        {
          "output_type": "display_data",
          "data": {
            "text/plain": [
              "<Figure size 700x700 with 1 Axes>"
            ],
            "image/png": "[encoded data removed]"
          },
          "metadata": {}
        }
      ]
    },
    {
      "cell_type": "markdown",
      "source": [
        "On remarque que auc est égale à 1.Ce qui veut dire que notre modèle discrimine parfaitement les classes positives des classes négatives."
      ],
      "metadata": {
        "id": "mJ5DAwvryDPS"
      }
    },
    {
      "cell_type": "markdown",
      "source": [
        "Calaculons la matrice de Gram obtenue sur notre jeu d'entrainement quand gamma = 0,1"
      ],
      "metadata": {
        "id": "ehMpr-83yszl"
      }
    },
    {
      "cell_type": "code",
      "source": [
        "import matplotlib\n",
        "\n",
        "kmatrix = metrics.pairwise.rbf_kernel(Xtrain, gamma=0.1)\n",
        "\n",
        "kmatrix100 = kmatrix[:100, :100]\n",
        "\n",
        "# dessiner la matrice\n",
        "plt.pcolor(kmatrix100, cmap=matplotlib.cm.PuRd) \n",
        "\n",
        "# rajouter la légende\n",
        "plt.colorbar()\n",
        "\n",
        "# retourner l'axe des ordonnées\n",
        "plt.gca().invert_yaxis()\n",
        "plt.gca().xaxis.tick_top()\n",
        "\n",
        "# afficher l'image\n",
        "plt.show()"
      ],
      "metadata": {
        "colab": {
          "base_uri": "https://localhost:8080/",
          "height": 438
        },
        "id": "S7TV74LNyCud",
        "outputId": "79b5b4a5-718f-452b-882c-3395789ad670"
      },
      "execution_count": 24,
      "outputs": [
        {
          "output_type": "display_data",
          "data": {
            "text/plain": [
              "<Figure size 640x480 with 2 Axes>"
            ],
            "image/png": "[encoded data removed]"
          },
          "metadata": {}
        }
      ]
    }
  ]
}